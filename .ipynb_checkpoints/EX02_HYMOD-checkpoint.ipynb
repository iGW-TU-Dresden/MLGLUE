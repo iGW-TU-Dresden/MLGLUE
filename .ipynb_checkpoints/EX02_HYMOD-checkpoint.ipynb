{
 "cells": [
  {
   "cell_type": "code",
   "execution_count": 1,
   "id": "e760ff5f-5644-4cf3-b125-2b5624e3193e",
   "metadata": {
    "tags": []
   },
   "outputs": [],
   "source": [
    "import numpy as np\n",
    "import matplotlib.pyplot as plt\n",
    "import pandas as pd\n",
    "import MLGLUE\n",
    "import time as time_module\n",
    "\n",
    "import warnings\n",
    "warnings.filterwarnings(\"ignore\")\n",
    "\n",
    "np.random.seed(1)"
   ]
  },
  {
   "cell_type": "markdown",
   "id": "e6dd8ad3",
   "metadata": {},
   "source": [
    "# Load Data\n",
    "- data are obtained from [Gauch et al. (2020)](https://doi.org/10.5281/zenodo.4072701)\n",
    "- hourly time series of hydrological forcing and discharge"
   ]
  },
  {
   "cell_type": "code",
   "execution_count": 2,
   "id": "55ea2189-d606-4820-94e1-4f9bc56a9004",
   "metadata": {
    "tags": []
   },
   "outputs": [],
   "source": [
    "# load data\n",
    "df = pd.read_csv(\n",
    "    \"./data/forcing.csv\",\n",
    "    parse_dates=[0],\n",
    "    usecols=[0, 4, 8, 9],\n",
    "    index_col=0\n",
    ")\n",
    "df_flow = pd.read_csv(\n",
    "    \"./data/flow.csv\",\n",
    "    parse_dates=[0],\n",
    "    usecols=[0, 1, 6],\n",
    "    index_col=0\n",
    ")\n",
    "\n",
    "et_data = df.iloc[:, 0]\n",
    "et_data = np.where(et_data < 0, 0., et_data)"
   ]
  },
  {
   "cell_type": "code",
   "execution_count": 3,
   "id": "3078acf4-a1dc-4a71-af99-d34b7dc530e5",
   "metadata": {},
   "outputs": [],
   "source": [
    "# prepare time series\n",
    "start_, end_ = \"2009-10-01\", \"2010-09-30\"\n",
    "\n",
    "p_series = pd.Series(\n",
    "    data=df.iloc[:, 2],\n",
    "    index=pd.DatetimeIndex(df.index)\n",
    ").truncate(before=start_, after=end_).interpolate() # mm/d\n",
    "et_series = pd.Series(\n",
    "    data=et_data,\n",
    "    index=pd.DatetimeIndex(df.index)\n",
    ").truncate(before=start_, after=end_).interpolate() # mm/d\n",
    "qout_series = pd.Series(\n",
    "    data=df_flow.iloc[:, 0],\n",
    "    index=pd.DatetimeIndex(df.index)\n",
    ").truncate(before=start_, after=end_).interpolate() # mm/d\n",
    "\n",
    "# model info\n",
    "# steps are needed to select time steps for evaluation / likelihood\n",
    "# computation\n",
    "steps = [1, 2, 4]\n",
    "# instead of pandas series we pass 1D arrays to the model\n",
    "p_series_euler = p_series.copy().values\n",
    "pet_series_euler = et_series.copy().values"
   ]
  },
  {
   "cell_type": "markdown",
   "id": "da706c4a",
   "metadata": {},
   "source": [
    "# Create HYMOD Model\n",
    "- we use the forward Euler method for solving the ODEs"
   ]
  },
  {
   "cell_type": "code",
   "execution_count": 4,
   "id": "56787ed0-f2d8-43ef-a2e7-aad8d5868b9a",
   "metadata": {
    "tags": []
   },
   "outputs": [],
   "source": [
    "def hymod_euler(Precip, PET, smax, beta, alpha, k_slow, k_quick, step=1):\n",
    "    \"\"\"\n",
    "    An implementation of the HYMOD model using the forward Euler method to\n",
    "    solve the ODEs.\n",
    "    See here for governing equations:\n",
    "    https://superflexpy.readthedocs.io/en/latest/popular_models.html#hymod\n",
    "\n",
    "    Parameters\n",
    "    ----------\n",
    "    Precip : np.ndarray\n",
    "        The precipitation data in the form of a 1D array.\n",
    "    PET : np.ndarray\n",
    "        The potential evapotranspiration data in the form of a 1D array.\n",
    "    smax : float\n",
    "        Maximum storage capacity.\n",
    "    beta : float\n",
    "        Soil storage distribution coefficient.\n",
    "    alpha : float\n",
    "        A fraction (0 <= alpha <= 1) of how much flow to route through the\n",
    "        quick storages. The remaining portion is routed through the slow\n",
    "        storage.\n",
    "    k_slow : float\n",
    "        Storage coefficient of the slow reservoir.\n",
    "    k_quick : float\n",
    "        Storage coefficients of the quick reservoirs.\n",
    "    step : int\n",
    "        The step size of the Euler method.\n",
    "\n",
    "    Returns\n",
    "    -------\n",
    "    outflow : np.ndarray\n",
    "        The computed outflow as 1D array. Has the same length as the input\n",
    "        forcings.\n",
    "    \"\"\"\n",
    "    # initialize states\n",
    "    s_upper_zone = 1.\n",
    "    s_slow = 1.\n",
    "    s_quick = [1., 1., 1.]\n",
    "    \n",
    "    # initialize global outflow data structure\n",
    "    outflow = []\n",
    "    # get number of time steps\n",
    "    tmax = len(Precip)\n",
    "    \n",
    "    # ensure that step is an integer\n",
    "    step = int(step)\n",
    "    # initialize time step\n",
    "    t = 0\n",
    "    \n",
    "    while t < tmax:\n",
    "        # compute precipitation excess from upper zone\n",
    "        s_upper_zone, outflow_upper_zone = upper_reservoir_euler(\n",
    "            state = s_upper_zone,\n",
    "            inflow = Precip[t],\n",
    "            pet = PET[t],\n",
    "            beta = beta,\n",
    "            smax = smax,\n",
    "            step = step\n",
    "        )\n",
    "        \n",
    "        # split outflow from upper zone\n",
    "        inflow_slow = (1 - alpha) * outflow_upper_zone\n",
    "        inflow_quick = alpha * outflow_upper_zone\n",
    "        \n",
    "        # compute slow reservoir contribution to global outflow\n",
    "        s_slow, outflow_slow = linear_reservoir_euler(\n",
    "            state = s_slow,\n",
    "            inflow = inflow_slow,\n",
    "            k = k_slow,\n",
    "            step = step\n",
    "        )\n",
    "        \n",
    "        # update global outflow\n",
    "        global_outflow = outflow_slow\n",
    "        \n",
    "        # compute contribution of quick reservoir series to global outflow\n",
    "        for n in range(3):\n",
    "            s_quick[n], inflow_quick = linear_reservoir_euler(\n",
    "                state = s_quick[n],\n",
    "                inflow = inflow_quick,\n",
    "                k = k_quick,\n",
    "                step = step\n",
    "            )\n",
    "            \n",
    "        # update global outflow\n",
    "        global_outflow += inflow_quick\n",
    "            \n",
    "        # save global outflow\n",
    "        outflow.append(global_outflow)\n",
    "        \n",
    "        # increment time step index\n",
    "        t += step\n",
    "    \n",
    "    return outflow\n",
    "\n",
    "def linear_reservoir_euler(state, inflow, k, step):\n",
    "    \"\"\"\n",
    "    Computes state y_(n+1) from state y_(n) using the Euler method\n",
    "    for a linear reservoir with inflow and storage coefficient k.\n",
    "    \n",
    "    Parameters\n",
    "    ----------\n",
    "    state : float\n",
    "        The current state y_(n).\n",
    "    inflow : float\n",
    "        The inflow flux [L/T] at time step (n).\n",
    "    k : float\n",
    "        Storage coefficient [1/T].\n",
    "    step : int\n",
    "        The step size of the Euler method.\n",
    "    \n",
    "    Returns\n",
    "    -------\n",
    "    new_state : float\n",
    "        The new state y_(n+1).\n",
    "    outflow : float\n",
    "        The outflow from the reservoir.\n",
    "    \"\"\"\n",
    "    \n",
    "    dSdt = inflow - k * state\n",
    "    outflow = k * state\n",
    "    new_state = state + step * dSdt\n",
    "    \n",
    "    if new_state < 0.:\n",
    "        new_state = 0.\n",
    "        \n",
    "    if outflow < 0.:\n",
    "        outflow = 0.\n",
    "    \n",
    "    return new_state, outflow\n",
    "\n",
    "def upper_reservoir_euler(state, inflow, pet, beta, smax, step):\n",
    "    \"\"\"\n",
    "    Computes state y_(n+1) from state y_(n) using the Euler method\n",
    "    for the HYMOD upper reservoir with inflow, evaporation, maximum\n",
    "    storage height, and distribution coefficient.\n",
    "    \n",
    "    Parameters\n",
    "    ----------\n",
    "    state : float\n",
    "        The current state y_(n).\n",
    "    inflow : float\n",
    "        The inflow flux [L/T] at time step (n).\n",
    "    pet : float\n",
    "        The potential evapotranspiration flux [L/T] at time step (n).\n",
    "    beta : float\n",
    "        The distribution coefficient.\n",
    "    smax : float\n",
    "        The maximum storage height [L].\n",
    "    step : int\n",
    "        The step size of the Euler method.\n",
    "    \n",
    "    Returns\n",
    "    -------\n",
    "    new_state : float\n",
    "        The new state y_(n+1).\n",
    "    outflow : float\n",
    "        The outflow from the reservoir.\n",
    "    \"\"\"\n",
    "    \n",
    "    s_bar = state / smax\n",
    "    \n",
    "    if state - pet > 0.:\n",
    "        pet = pet\n",
    "    else:\n",
    "        pet = pet - state\n",
    "    \n",
    "    dSdt = inflow - pet - inflow * (1 - min(1, max(0, (1 - s_bar))) ** beta)\n",
    "    \n",
    "    outflow = inflow * (1 - min(1, max(0, (1 - s_bar))) ** beta)\n",
    "    new_state = state + step * dSdt\n",
    "    \n",
    "    if new_state < 0.:\n",
    "        new_state = 0.\n",
    "        \n",
    "    if outflow < 0.:\n",
    "        outflow = 0.\n",
    "    \n",
    "    return new_state, outflow"
   ]
  },
  {
   "cell_type": "markdown",
   "id": "faf325c7",
   "metadata": {},
   "source": [
    "# Create MLGLUE Model Function\n",
    "- we purposefully include some constant bias in the lower levels to test the functionality of the bias term in the likelihood"
   ]
  },
  {
   "cell_type": "code",
   "execution_count": 5,
   "id": "e2b77962-bfd0-4a46-a10a-d80ea20df381",
   "metadata": {},
   "outputs": [],
   "source": [
    "def hymod_euler_model(parameters, level, n_levels, obs, likelihood, run_id):\n",
    "    \"\"\"\n",
    "    The model function for MLGLUE.\n",
    "\n",
    "    Parameters\n",
    "    ----------\n",
    "    parameters : 1D list-like\n",
    "        The model parameter vector.\n",
    "    level : int\n",
    "        The level index.\n",
    "    n_levels : int\n",
    "        The total number of levels.\n",
    "    obs : 1D list-like\n",
    "        The observations on which to condition the parameters.\n",
    "    likelihood : callable\n",
    "        A callable with a likelihood method with which to compute the\n",
    "        likelihood.\n",
    "    run_id : int\n",
    "        A run identifier.\n",
    "\n",
    "    Returns\n",
    "    -------\n",
    "    likelihood_ : float\n",
    "        Computed likelihood for the current parameter sample.\n",
    "    results : 1D list-like\n",
    "        The model results.\n",
    "    \"\"\"\n",
    "    step = 1\n",
    "    if n_levels == 3:\n",
    "        if level == 0:\n",
    "            step = 4\n",
    "        elif level == 1:\n",
    "            step = 2\n",
    "        elif level == 2:\n",
    "            step = 1\n",
    "    elif n_levels == 1:\n",
    "        step = 1\n",
    "        \n",
    "    outflow = hymod_euler(\n",
    "        Precip=p_series_euler,\n",
    "        PET=pet_series_euler,\n",
    "        smax=parameters[0],\n",
    "        beta=parameters[1],\n",
    "        alpha=parameters[2],\n",
    "        k_slow=parameters[3],\n",
    "        k_quick=parameters[4],\n",
    "        step=step\n",
    "    )\n",
    "    \n",
    "    # resample solution to original frequency via linear interpolation\n",
    "    outflow = pd.Series(outflow, index=p_series.index[::step]).reindex(p_series.index).interpolate().values\n",
    "    if level == 0:\n",
    "        outflow -= .05\n",
    "    if level == 1:\n",
    "        outflow -= .02\n",
    "    \n",
    "    # return None if there are NaN values in sol\n",
    "    if np.any(np.isnan(outflow)):\n",
    "        return None, None\n",
    "    else:\n",
    "        # calculate likelihood\n",
    "        warmup = 24 * 25\n",
    "        likelihood_ = likelihood.likelihood(obs=obs[warmup:], sim=outflow[warmup:])\n",
    "\n",
    "        return likelihood_, outflow"
   ]
  },
  {
   "cell_type": "markdown",
   "id": "8e6c47ab-d779-43b4-8a8a-906798e11333",
   "metadata": {},
   "source": [
    "# Run MLGLUE **without** Bias Term"
   ]
  },
  {
   "cell_type": "code",
   "execution_count": 6,
   "id": "b66436fd",
   "metadata": {},
   "outputs": [
    {
     "name": "stdout",
     "output_type": "stream",
     "text": [
      "\n",
      "No samples provided, using uniform sampling...\n"
     ]
    },
    {
     "name": "stderr",
     "output_type": "stream",
     "text": [
      "2024-11-14 16:04:02,048\tINFO worker.py:1819 -- Started a local Ray instance.\n"
     ]
    },
    {
     "name": "stdout",
     "output_type": "stream",
     "text": [
      "\n",
      "Starting tuning with multiprocessing...\n",
      "\n",
      "\n",
      "Results of variance analysis: \n",
      "Correlation between subsequent levels (from lowest to highest level):\n",
      "   0.88217   (level 0, level 1)\n",
      "   0.96504   (level 1, level 2)\n",
      "Note: those values should INCREASE with increasing level indices!\n",
      "\n",
      "\n",
      "Variances of likelihoods on all levels (from lowest to highest level):\n",
      "   1108.58999   (level 0)\n",
      "   3498.58976   (level 1)\n",
      "   10418.32773   (level 2)\n",
      "Note: those values should be approximately constant across all levels!\n",
      "\n",
      "\n",
      "The var. inequality holds between levels  0 and 1: 3498.58976 >= 1.13251e+03\n",
      "The var. inequality holds between levels  1 and 2: 10418.32773 >= 2.26443e+03\n",
      "\n",
      "The variance inequality holds between all two subsequent levels!\n",
      "The cross-level variance does not decay monotonically!\n",
      "\n",
      "\n",
      "Results of mean value analysis: \n",
      "Mean values of the difference between likelihoods on subsequent levels (from lowest to highest level):\n",
      "   56.02433   (level 0, level 1)\n",
      "   36.83526   (level 1, level 2)\n",
      "Note: those values should DECREASE with increasing level indices!\n",
      "\n",
      "\n",
      "Mean values of the likelihoods on all levels (from lowest highest level):\n",
      "   62.72736   (level 0)\n",
      "   118.75169   (level 1)\n",
      "   155.58695   (level 2)\n",
      "Note: those values should be approximately constant across all levels!\n",
      "\n",
      "\n",
      "The mean value ineq. holds between levels  0 and 1: 118.75169 >= 5.60243e+01\n",
      "The mean value ineq. holds between levels  1 and 2: 155.58695 >= 3.68353e+01\n",
      "\n",
      "The mean value inequality holds between all two subsequent levels!\n",
      "The cross-level mean value decays monotonically!\n",
      "\n",
      "The calculated thresholds are: [np.float64(135.95414968159807), np.float64(289.97060233585574), np.float64(442.1201949509557)]\n"
     ]
    },
    {
     "name": "stderr",
     "output_type": "stream",
     "text": [
      "2024-11-14 16:04:46,732\tINFO worker.py:1819 -- Started a local Ray instance.\n"
     ]
    },
    {
     "name": "stdout",
     "output_type": "stream",
     "text": [
      "\n",
      "Starting sampling with multiprocessing...\n",
      "\n",
      "\n",
      "Sampling finished.\n",
      "Shape of samples:  (28, 5)\n",
      "Shape of results:  (28, 8737)\n",
      "Shape of likelihoods:  (28,)\n",
      "shape of values:  (28, 8737)\n"
     ]
    },
    {
     "data": {
      "text/plain": [
       "<matplotlib.collections.PolyCollection at 0x1fd7dde0c50>"
      ]
     },
     "execution_count": 6,
     "metadata": {},
     "output_type": "execute_result"
    },
    {
     "data": {
      "image/png": "[encoded data removed]",
      "text/plain": [
       "<Figure size 640x480 with 1 Axes>"
      ]
     },
     "metadata": {},
     "output_type": "display_data"
    }
   ],
   "source": [
    "# MLGLUE\n",
    "\n",
    "# define likelihood\n",
    "mylike = MLGLUE.InverseErrorVarianceLikelihood_bias(\n",
    "    threshold=0.02, T=1., weights=None\n",
    ")\n",
    "\n",
    "# parameters: [c_max, b_exp, alpha, k_slow, k_quick]\n",
    "mlglue = MLGLUE.MLGLUE(likelihood=mylike, model=hymod_euler_model,\n",
    "                       upper_bounds=[1000., 2., 1., .1, .5], lower_bounds=[1., 0.1, 0., 0., 0.],\n",
    "                       obs=qout_series.values, n_samples=5_000, n_levels=3,\n",
    "                       multiprocessing=True, n_processors=32, tuning=.4,\n",
    "                       hierarchy_analysis=False, include_bias=False)\n",
    "\n",
    "samples, liks, results = mlglue.perform_MLGLUE()\n",
    "\n",
    "print(\"Shape of samples: \", np.shape(samples))\n",
    "print(\"Shape of results: \", np.shape(results))\n",
    "print(\"Shape of likelihoods: \", np.shape(liks))\n",
    "\n",
    "uncertainty_estimates = mlglue.estimate_uncertainty(quantiles=[0.01, 0.5, 0.99])\n",
    "\n",
    "fig, ax = plt.subplots()\n",
    "ax.plot(qout_series.index, qout_series.values)\n",
    "ax.fill_between(qout_series.index, uncertainty_estimates[:, 0], uncertainty_estimates[:, 2], alpha=0.4)"
   ]
  },
  {
   "cell_type": "code",
   "execution_count": 7,
   "id": "b9f6317e",
   "metadata": {},
   "outputs": [
    {
     "data": {
      "image/png": "[encoded data removed]",
      "text/plain": [
       "<Figure size 400x600 with 5 Axes>"
      ]
     },
     "metadata": {},
     "output_type": "display_data"
    }
   ],
   "source": [
    "# look at posterior histograms\n",
    "fig, ax = plt.subplots(nrows=5, figsize=(4, 6))\n",
    "\n",
    "for i in range(5):\n",
    "    ax[i].hist(np.array(samples)[:, i], 50)\n",
    "\n",
    "plt.tight_layout()"
   ]
  },
  {
   "cell_type": "markdown",
   "id": "53e2b263-6d78-40cd-8064-e3f62bc145be",
   "metadata": {},
   "source": [
    "# Run MLGLUE **with** Bias Term"
   ]
  },
  {
   "cell_type": "code",
   "execution_count": 8,
   "id": "ecfbeb85-5bf9-4537-acc7-8217b9c842d6",
   "metadata": {},
   "outputs": [
    {
     "name": "stdout",
     "output_type": "stream",
     "text": [
      "\n",
      "No samples provided, using uniform sampling...\n"
     ]
    },
    {
     "name": "stderr",
     "output_type": "stream",
     "text": [
      "2024-11-14 16:05:32,905\tINFO worker.py:1819 -- Started a local Ray instance.\n"
     ]
    },
    {
     "name": "stdout",
     "output_type": "stream",
     "text": [
      "\n",
      "Starting tuning with multiprocessing...\n"
     ]
    },
    {
     "ename": "TypeError",
     "evalue": "object of type 'NoneType' has no len()",
     "output_type": "error",
     "traceback": [
      "\u001b[1;31m---------------------------------------------------------------------------\u001b[0m",
      "\u001b[1;31mTypeError\u001b[0m                                 Traceback (most recent call last)",
      "Cell \u001b[1;32mIn[8], line 15\u001b[0m\n\u001b[0;32m      8\u001b[0m \u001b[38;5;66;03m# parameters: [c_max, b_exp, alpha, k_slow, k_quick]\u001b[39;00m\n\u001b[0;32m      9\u001b[0m mlglue \u001b[38;5;241m=\u001b[39m MLGLUE\u001b[38;5;241m.\u001b[39mMLGLUE(likelihood\u001b[38;5;241m=\u001b[39mmylike, model\u001b[38;5;241m=\u001b[39mhymod_euler_model,\n\u001b[0;32m     10\u001b[0m                        upper_bounds\u001b[38;5;241m=\u001b[39m[\u001b[38;5;241m1000.\u001b[39m, \u001b[38;5;241m2.\u001b[39m, \u001b[38;5;241m1.\u001b[39m, \u001b[38;5;241m.1\u001b[39m, \u001b[38;5;241m.5\u001b[39m], lower_bounds\u001b[38;5;241m=\u001b[39m[\u001b[38;5;241m1.\u001b[39m, \u001b[38;5;241m0.1\u001b[39m, \u001b[38;5;241m0.\u001b[39m, \u001b[38;5;241m0.\u001b[39m, \u001b[38;5;241m0.\u001b[39m],\n\u001b[0;32m     11\u001b[0m                        obs\u001b[38;5;241m=\u001b[39mqout_series\u001b[38;5;241m.\u001b[39mvalues, n_samples\u001b[38;5;241m=\u001b[39m\u001b[38;5;241m5_000\u001b[39m, n_levels\u001b[38;5;241m=\u001b[39m\u001b[38;5;241m3\u001b[39m,\n\u001b[0;32m     12\u001b[0m                        multiprocessing\u001b[38;5;241m=\u001b[39m\u001b[38;5;28;01mTrue\u001b[39;00m, n_processors\u001b[38;5;241m=\u001b[39m\u001b[38;5;28;01mNone\u001b[39;00m, tuning\u001b[38;5;241m=\u001b[39m\u001b[38;5;241m.4\u001b[39m,\n\u001b[0;32m     13\u001b[0m                        hierarchy_analysis\u001b[38;5;241m=\u001b[39m\u001b[38;5;28;01mFalse\u001b[39;00m, include_bias\u001b[38;5;241m=\u001b[39m\u001b[38;5;28;01mTrue\u001b[39;00m)\n\u001b[1;32m---> 15\u001b[0m samples, liks, results \u001b[38;5;241m=\u001b[39m \u001b[43mmlglue\u001b[49m\u001b[38;5;241;43m.\u001b[39;49m\u001b[43mperform_MLGLUE\u001b[49m\u001b[43m(\u001b[49m\u001b[43m)\u001b[49m\n\u001b[0;32m     17\u001b[0m \u001b[38;5;28mprint\u001b[39m(\u001b[38;5;124m\"\u001b[39m\u001b[38;5;124mShape of samples: \u001b[39m\u001b[38;5;124m\"\u001b[39m, np\u001b[38;5;241m.\u001b[39mshape(samples))\n\u001b[0;32m     18\u001b[0m \u001b[38;5;28mprint\u001b[39m(\u001b[38;5;124m\"\u001b[39m\u001b[38;5;124mShape of results: \u001b[39m\u001b[38;5;124m\"\u001b[39m, np\u001b[38;5;241m.\u001b[39mshape(results))\n",
      "File \u001b[1;32m~\\Documents\\GitHub\\MLGLUE\\MLGLUE\\MLGLUE.py:1603\u001b[0m, in \u001b[0;36mMLGLUE.perform_MLGLUE\u001b[1;34m(self)\u001b[0m\n\u001b[0;32m   1599\u001b[0m     \u001b[38;5;28mself\u001b[39m\u001b[38;5;241m.\u001b[39mcalculate_initial_bias_estimate()\n\u001b[0;32m   1601\u001b[0m     \u001b[38;5;66;03m# we now need to re-calculate the likelihoods on all levels\u001b[39;00m\n\u001b[0;32m   1602\u001b[0m     \u001b[38;5;66;03m# taking the bias into account\u001b[39;00m\n\u001b[1;32m-> 1603\u001b[0m     \u001b[38;5;28;43mself\u001b[39;49m\u001b[38;5;241;43m.\u001b[39;49m\u001b[43mrecalculate_likelihoods\u001b[49m\u001b[43m(\u001b[49m\u001b[43m)\u001b[49m\n\u001b[0;32m   1605\u001b[0m \u001b[38;5;66;03m# analyze variances and mean values\u001b[39;00m\n\u001b[0;32m   1606\u001b[0m \u001b[38;5;28;01mif\u001b[39;00m \u001b[38;5;28mself\u001b[39m\u001b[38;5;241m.\u001b[39mhierarchy_analysis \u001b[38;5;241m==\u001b[39m \u001b[38;5;28;01mTrue\u001b[39;00m:\n",
      "File \u001b[1;32m~\\Documents\\GitHub\\MLGLUE\\MLGLUE\\MLGLUE.py:978\u001b[0m, in \u001b[0;36mMLGLUE.recalculate_likelihoods\u001b[1;34m(self)\u001b[0m\n\u001b[0;32m    976\u001b[0m \u001b[38;5;28;01mfor\u001b[39;00m level \u001b[38;5;129;01min\u001b[39;00m \u001b[38;5;28mrange\u001b[39m(\u001b[38;5;28mself\u001b[39m\u001b[38;5;241m.\u001b[39mn_levels \u001b[38;5;241m-\u001b[39m \u001b[38;5;241m1\u001b[39m):\n\u001b[0;32m    977\u001b[0m     likelihoods_re_level \u001b[38;5;241m=\u001b[39m []\n\u001b[1;32m--> 978\u001b[0m     \u001b[38;5;28;01mfor\u001b[39;00m i \u001b[38;5;129;01min\u001b[39;00m \u001b[38;5;28mrange\u001b[39m(\u001b[38;5;28;43mlen\u001b[39;49m\u001b[43m(\u001b[49m\u001b[38;5;28;43mself\u001b[39;49m\u001b[38;5;241;43m.\u001b[39;49m\u001b[43msamples_tuning\u001b[49m\u001b[43m)\u001b[49m):\n\u001b[0;32m    979\u001b[0m         \u001b[38;5;66;03m# re-calculate likelihood\u001b[39;00m\n\u001b[0;32m    980\u001b[0m         lik \u001b[38;5;241m=\u001b[39m \u001b[38;5;28mself\u001b[39m\u001b[38;5;241m.\u001b[39mlikelihood\u001b[38;5;241m.\u001b[39mlikelihood(\n\u001b[0;32m    981\u001b[0m             obs\u001b[38;5;241m=\u001b[39m\u001b[38;5;28mself\u001b[39m\u001b[38;5;241m.\u001b[39mobs,\n\u001b[0;32m    982\u001b[0m             sim\u001b[38;5;241m=\u001b[39m\u001b[38;5;28mself\u001b[39m\u001b[38;5;241m.\u001b[39mresults_analysis_tuning[level, i, :],\n\u001b[0;32m    983\u001b[0m             bias\u001b[38;5;241m=\u001b[39m\u001b[38;5;28mself\u001b[39m\u001b[38;5;241m.\u001b[39mbias[level, :]\n\u001b[0;32m    984\u001b[0m         )\n\u001b[0;32m    985\u001b[0m         likelihoods_re_level\u001b[38;5;241m.\u001b[39mappend(lik)\n",
      "\u001b[1;31mTypeError\u001b[0m: object of type 'NoneType' has no len()"
     ]
    }
   ],
   "source": [
    "# MLGLUE\n",
    "\n",
    "# define likelihood\n",
    "mylike = MLGLUE.InverseErrorVarianceLikelihood_bias(\n",
    "    threshold=0.02, T=1., weights=None\n",
    ")\n",
    "\n",
    "# parameters: [c_max, b_exp, alpha, k_slow, k_quick]\n",
    "mlglue = MLGLUE.MLGLUE(likelihood=mylike, model=hymod_euler_model,\n",
    "                       upper_bounds=[1000., 2., 1., .1, .5], lower_bounds=[1., 0.1, 0., 0., 0.],\n",
    "                       obs=qout_series.values, n_samples=5_000, n_levels=3,\n",
    "                       multiprocessing=True, n_processors=None, tuning=.4,\n",
    "                       hierarchy_analysis=False, include_bias=True)\n",
    "\n",
    "samples, liks, results = mlglue.perform_MLGLUE()\n",
    "\n",
    "print(\"Shape of samples: \", np.shape(samples))\n",
    "print(\"Shape of results: \", np.shape(results))\n",
    "print(\"Shape of likelihoods: \", np.shape(liks))\n",
    "\n",
    "uncertainty_estimates = mlglue.estimate_uncertainty(quantiles=[0.01, 0.5, 0.99])\n",
    "\n",
    "fig, ax = plt.subplots()\n",
    "ax.plot(qout_series.index, qout_series.values)\n",
    "ax.fill_between(qout_series.index, uncertainty_estimates[:, 0], uncertainty_estimates[:, 2], alpha=0.4)"
   ]
  },
  {
   "cell_type": "code",
   "execution_count": null,
   "id": "fa6a65f7",
   "metadata": {},
   "outputs": [],
   "source": [
    "# look at bias\n",
    "fig, ax = plt.subplots()\n",
    "\n",
    "ax.plot(mlglue.bias[0])\n",
    "ax.plot(mlglue.bias[1])\n",
    "ax.plot(mlglue.bias[2])"
   ]
  },
  {
   "cell_type": "code",
   "execution_count": null,
   "id": "05afdbc0-75eb-4dc8-a7f1-51ba85d398c4",
   "metadata": {},
   "outputs": [],
   "source": [
    "# look at posterior histograms\n",
    "fig, ax = plt.subplots(nrows=5, figsize=(4, 6))\n",
    "\n",
    "for i in range(5):\n",
    "    ax[i].hist(np.array(samples)[:, i], 50)\n",
    "\n",
    "plt.tight_layout()"
   ]
  },
  {
   "cell_type": "code",
   "execution_count": null,
   "id": "bc383199",
   "metadata": {},
   "outputs": [],
   "source": []
  }
 ],
 "metadata": {
  "kernelspec": {
   "display_name": "Python 3 (ipykernel)",
   "language": "python",
   "name": "python3"
  },
  "language_info": {
   "codemirror_mode": {
    "name": "ipython",
    "version": 3
   },
   "file_extension": ".py",
   "mimetype": "text/x-python",
   "name": "python",
   "nbconvert_exporter": "python",
   "pygments_lexer": "ipython3",
   "version": "3.11.10"
  }
 },
 "nbformat": 4,
 "nbformat_minor": 5
}
